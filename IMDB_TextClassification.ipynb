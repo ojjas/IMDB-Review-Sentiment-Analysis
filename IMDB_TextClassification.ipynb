{
  "cells": [
    {
      "cell_type": "markdown",
      "metadata": {
        "id": "9qvpS0Fx76IG"
      },
      "source": [
        "## ***IMPORTING NECESSARY LIBRARIES***\n"
      ]
    },
    {
      "cell_type": "code",
      "execution_count": 3,
      "metadata": {
        "id": "NfSZYe5nuln1"
      },
      "outputs": [],
      "source": [
        "import numpy as np\n",
        "import pandas as pd\n",
        "import matplotlib.pyplot as plt\n",
        "import seaborn as sns\n",
        "import tensorflow\n",
        "from tensorflow.keras.preprocessing.text import Tokenizer\n",
        "from tensorflow.keras.preprocessing.sequence import pad_sequences\n",
        "from tensorflow.keras.layers import Embedding , Dense , Dropout, LSTM\n",
        "from tensorflow.keras.models import Sequential\n"
      ]
    },
    {
      "cell_type": "markdown",
      "metadata": {
        "id": "sRaDjuNrzzwK"
      },
      "source": [
        "## ***IMPORTING THE TRAIN AND TEST DATASET***"
      ]
    },
    {
      "cell_type": "code",
      "execution_count": 4,
      "metadata": {
        "id": "-6gw3E7WxDvo"
      },
      "outputs": [],
      "source": [
        "col_names = ['Text', 'Label']\n",
        "train_data = pd.read_csv('Train.csv', names=col_names)\n",
        "test_data = pd.read_csv('Test.csv', names=col_names)"
      ]
    },
    {
      "cell_type": "code",
      "execution_count": 5,
      "metadata": {
        "colab": {
          "base_uri": "https://localhost:8080/"
        },
        "id": "A-nviXyNx0L5",
        "outputId": "f1dc7503-8c10-49b8-d2a1-54a7180be945"
      },
      "outputs": [
        {
          "data": {
            "text/plain": [
              "((40001, 2), (5001, 2))"
            ]
          },
          "execution_count": 5,
          "metadata": {},
          "output_type": "execute_result"
        }
      ],
      "source": [
        "# Checking the shape of the train and test datasets\n",
        "train_data.shape, test_data.shape"
      ]
    },
    {
      "cell_type": "code",
      "execution_count": 6,
      "metadata": {
        "colab": {
          "base_uri": "https://localhost:8080/",
          "height": 140
        },
        "id": "b2FyUWSwyG3B",
        "outputId": "27eb40fb-2bc6-4c72-89a2-ecdce3fd3753"
      },
      "outputs": [
        {
          "data": {
            "text/plain": [
              "'I grew up (b. 1965) watching and loving the Thunderbirds. All my mates at school watched. We played \"Thunderbirds\" before school, during lunch and after school. We all wanted to be Virgil or Scott. No one wanted to be Alan. Counting down from 5 became an art form. I took my children to see the movie hoping they would get a glimpse of what I loved as a child. How bitterly disappointing. The only high point was the snappy theme tune. Not that it could compare with the original score of the Thunderbirds. Thankfully early Saturday mornings one television channel still plays reruns of the series Gerry Anderson and his wife created. Jonatha Frakes should hand in his directors chair, his version was completely hopeless. A waste of film. Utter rubbish. A CGI remake may be acceptable but replacing marionettes with Homo sapiens subsp. sapiens was a huge error of judgment.'"
            ]
          },
          "execution_count": 6,
          "metadata": {},
          "output_type": "execute_result"
        }
      ],
      "source": [
        "train_data.iloc[1].Text"
      ]
    },
    {
      "cell_type": "code",
      "execution_count": 7,
      "metadata": {
        "colab": {
          "base_uri": "https://localhost:8080/"
        },
        "id": "G_zD8DHfyZ_d",
        "outputId": "659351b2-e5f4-4f4f-fd35-3cc7711b76c2"
      },
      "outputs": [
        {
          "data": {
            "text/plain": [
              "'label'"
            ]
          },
          "execution_count": 7,
          "metadata": {},
          "output_type": "execute_result"
        }
      ],
      "source": [
        "#Extractinng train data into lists\n",
        "train_text = train_data.Text.tolist()\n",
        "train_text.pop(0)\n",
        "train_label = train_data.Label.tolist()\n",
        "train_label.pop(0)\n",
        "\n",
        "#Extracting test data into lists \n",
        "test_text = test_data.Text.tolist()\n",
        "test_text.pop(0)\n",
        "test_label = test_data.Label.tolist()\n",
        "test_label.pop(0)\n",
        "\n",
        "# print(train_text[1:4])\n",
        "# print(train_label[1:4])"
      ]
    },
    {
      "cell_type": "code",
      "execution_count": 8,
      "metadata": {
        "colab": {
          "base_uri": "https://localhost:8080/"
        },
        "id": "QpIDmHP5zpsw",
        "outputId": "50b567c0-0350-4d49-8a6c-d6e1844ac6b6"
      },
      "outputs": [
        {
          "name": "stdout",
          "output_type": "stream",
          "text": [
            "['I grew up (b. 1965) watching and loving the Thunderbirds. All my mates at school watched. We played \"Thunderbirds\" before school, during lunch and after school. We all wanted to be Virgil or Scott. No one wanted to be Alan. Counting down from 5 became an art form. I took my children to see the movie hoping they would get a glimpse of what I loved as a child. How bitterly disappointing. The only high point was the snappy theme tune. Not that it could compare with the original score of the Thunderbirds. Thankfully early Saturday mornings one television channel still plays reruns of the series Gerry Anderson and his wife created. Jonatha Frakes should hand in his directors chair, his version was completely hopeless. A waste of film. Utter rubbish. A CGI remake may be acceptable but replacing marionettes with Homo sapiens subsp. sapiens was a huge error of judgment.', \"When I put this movie in my DVD player, and sat down with a coke and some chips, I had some expectations. I was hoping that this movie would contain some of the strong-points of the first movie: Awsome animation, good flowing story, excellent voice cast, funny comedy and a kick-ass soundtrack. But, to my disappointment, not any of this is to be found in Atlantis: Milo's Return. Had I read some reviews first, I might not have been so let down. The following paragraph will be directed to those who have seen the first movie, and who enjoyed it primarily for the points mentioned.<br /><br />When the first scene appears, your in for a shock if you just picked Atlantis: Milo's Return from the display-case at your local videoshop (or whatever), and had the expectations I had. The music feels as a bad imitation of the first movie, and the voice cast has been replaced by a not so fitting one. (With the exception of a few characters, like the voice of Sweet). The actual drawings isnt that bad, but the animation in particular is a sad sight. The storyline is also pretty weak, as its more like three episodes of Schooby-Doo than the single adventurous story we got the last time. But dont misunderstand, it's not very good Schooby-Doo episodes. I didnt laugh a single time, although I might have sniggered once or twice.<br /><br />To the audience who haven't seen the first movie, or don't especially care for a similar sequel, here is a fast review of this movie as a stand-alone product: If you liked schooby-doo, you might like this movie. If you didn't, you could still enjoy this movie if you have nothing else to do. And I suspect it might be a good kids movie, but I wouldn't know. It might have been better if Milo's Return had been a three-episode series on a cartoon channel, or on breakfast TV.\", 'Why do people who do not know what a particular time in the past was like feel the need to try to define that time for others? Replace Woodstock with the Civil War and the Apollo moon-landing with the Titanic sinking and you\\'ve got as realistic a flick as this formulaic soap opera populated entirely by low-life trash. Is this what kids who were too young to be allowed to go to Woodstock and who failed grade school composition do? \"I\\'ll show those old meanies, I\\'ll put out my own movie and prove that you don\\'t have to know nuttin about your topic to still make money!\" Yeah, we already know that. The one thing watching this film did for me was to give me a little insight into underclass thinking. The next time I see a slut in a bar who looks like Diane Lane, I\\'m running the other way. It\\'s child abuse to let parents that worthless raise kids. It\\'s audience abuse to simply stick Woodstock and the moonlanding into a flick as if that ipso facto means the film portrays 1969.', 'Even though I have great interest in Biblical movies, I was bored to death every minute of the movie. Everything is bad. The movie is too long, the acting is most of the time a Joke and the script is horrible. I did not get the point in mixing the story about Abraham and Noah together. So if you value your time and sanity stay away from this horror.', 'Im a die hard Dads Army fan and nothing will ever change that. I got all the tapes, DVD\\'s and audiobooks and every time i watch/listen to them its brand new. <br /><br />The film. The film is a re run of certain episodes, Man and the hour, Enemy within the gates, Battle School and numerous others with a different edge. Introduction of a new General instead of Captain Square was a brilliant move - especially when he wouldn\\'t cash the cheque (something that is rarely done now).<br /><br />It follows through the early years of getting equipment and uniforms, starting up and training. All in all, its a great film for a boring Sunday afternoon. <br /><br />Two draw backs. One is the Germans bogus dodgy accents (come one, Germans cant pronounced the letter \"W\" like us) and Two The casting of Liz Frazer instead of the familiar Janet Davis. I like Liz in other films like the carry ons but she doesn\\'t carry it correctly in this and Janet Davis would have been the better choice.']\n",
            "[0, 0, 0, 0, 1]\n",
            "['I always wrote this series off as being a complete stink-fest because Jim Belushi was involved in it, and heavily. But then one day a tragic happenstance occurred. After a White Sox game ended I realized that the remote was all the way on the other side of the room somehow. Now I could have just gotten up and walked across the room to get the remote, or even to the TV to turn the channel. But then why not just get up and walk across the country to watch TV in another state? \"Nuts to that\", I said. So I decided to just hang tight on the couch and take whatever Fate had in store for me. What Fate had in store was an episode of this show, an episode about which I remember very little except that I had once again made a very broad, general sweeping blanket judgment based on zero objective or experiential evidence with nothing whatsoever to back my opinions up with, and once again I was completely right! This show is a total crud-pie! Belushi has all the comedic delivery of a hairy lighthouse foghorn. The women are physically attractive but too Stepford-is to elicit any real feeling from the viewer. There is absolutely no reason to stop yourself from running down to the local TV station with a can of gasoline and a flamethrower and sending every copy of this mutt howling back to hell. <br /><br />Except.. <br /><br />Except for the wonderful comic sty lings of Larry Joe Campbell, America\\'s Greatest Comic Character Actor. This guy plays Belushi\\'s brother-in-law, Andy, and he is gold. How good is he really? Well, aside from being funny, his job is to make Belushi look good. That\\'s like trying to make butt warts look good. But Campbell pulls it off with style. Someone should invent a Nobel Prize in Comic Buffoonery so he can win it every year. Without Larry Joe this show would consist of a slightly vacant looking Courtney Thorne-Smith smacking Belushi over the head with a frying pan while he alternately beats his chest and plays with the straw on the floor of his cage. 5 stars for Larry Joe Campbell designated Comedic Bacon because he improves the flavor of everything he\\'s in!', \"1st watched 12/7/2002 - 3 out of 10(Dir-Steve Purcell): Typical Mary Kate & Ashley fare with a few more kisses. It looks to me like the girls are getting pretty tired of this stuff and it will be interesting what happens to them if they ever decide to split up and go there own ways. In this episode of their adventures they are interns in Rome for a `fashion' designer who puts them right into the mailroom to learn what working hard is all about(I guess..). Besides the typical flirtations with boys there is nothing much else except the Rome scenario until about ¾ way into the movie when it's finally revealed why they are getting fired, then re-hired, then fired again, then re-hired again. This is definetly made by people who don't understand the corporate world and it shows in their interpretation of it. Maybe the real world will be their next adventure(if there is one.). Even my kids didn't seem to care for this boring `adventure' in the make-believe. Let's see they probably only have a couple of years till their legal adults. We'll see what happens then.\", 'This movie was so poorly written and directed I fell asleep 30 minutes through the movie. The jokes in the movie are corny and even though the plot is interesting at some angles, it is too far fetched and at some points- ridiculous. If you are 11 or older you will overlook the writing in the movie and be disappointed, but if you are 10 or younger this is a film that will capture your attention and be amazed with all the stunts (which I might add are poorly done) and wish you were some warrior to. The casting in this movie wasn\\'t very good, and the music was very disappointing because it was like they were trying to build up the tension but it didn\\'t fit at all. On a scale of 1-10 (10 being excellent, 1 being horrible) the acting in this movie is a 4. Brenda Song is talented in comedy, but with this kind of movie, in some of the more serious scenes, her acting was laughable. When she made some of her \"fighting\" poses, I started laughing out loud. I think the worst thing about this movie is definitely the directing, for example, the part where her enemy turns out to be the person the evil villain is possesing, how her voice turns dark and evil, I think that was incredibly stupid, and how Wendy\\'s (Brenda Song)teachers were all her teachers at school being possessed by monks, that was pretty ridiculous to. So to sumamrize it all, a disappointing movie, but okay if you\\'re 10 or under.', 'The most interesting thing about Miryang (Secret Sunshine) is the actors. Jeon Do-yeon, as Lee Shin-ae, the main character, is a woman with a young son whose husband has died in a tragic accident, and who leaves Seoul to live in Miryang, which was his home town, with her young son. Jeon\\'s face is very changeable. She is girlish, flirtatious, elegant, aged and sad, desperate and joyous, with it and terribly isolated by turns, and it\\'s all in her face. The film also stars Song Kang-ho as Kim, a man who meets her when her car breaks down coming into Miryang, who happens to run a garage in town, and who follows her around all the time thereafter, despite her apparent lack of interest in his attentions. Song is the biggest star in Korea right now, renowned for his work with Park Chan-wook and Bong Joon-ho (Sympathy for Mr. Vengeance; Memories of Murder and The Host). And yet here he plays a throwaway character, almost a forgotten man. But of course he makes him interesting and curiously appealing. He is the essential ballast to keep Jeon\\'s character from floating away.<br /><br />Lee Shin-ae is a piano teacher. She comes to the new town, which is a neutral place, a kind of poor-man\\'s Seoul, a town \"just like anywhere else,\" as Kim says (just as he is in a way just like anyone else). Her little boy is sprightly, as little boys are, but plainly damaged and withdrawn at times too. His father used to snore, and when he misses him he lies awake, pretending to snore. He goes to school, and Shin-ae meets parents and students and shopkeepers. There is a sense of place in the film, even though the place is in a sense \"anywhere.\" People speak in the local dialect, and everyone knows everything, and Shin-ae\\'s Seoul origin is immediately noticed. Is life really harsher here, away from the big city and its sophistication? Shin-ae seems not to realize the danger she is in.<br /><br />Something terrible happens. And Shin-ae doesn\\'t necessarily deal with it in the best possible way. But it happens and she must face the consequences. But she can\\'t. She goes to pieces. A perpetrator is caught, but that\\'s no consolation. Eventually she becomes so despairing, she relents and goes to a born-again Christian meeting an acquaintance has been pressing her to attend. She finds peace and release with this. But when she decides not only to forgive the perpetrator but to go to the prison to tell him so, that experience is full of ironies and it destroys her all over again. She becomes embittered and desperate and she no longer finds solace in religion. And it gets worse than that.<br /><br />Jeon Do-yeon gives her all in this extremely demanding and protean role. Lee Chang-dong may be a very good director. If an actor of the stature of Song Kang-ho expresses enormous admiration for him, that is convincing. According to Scott Foundas of LA Weekly, Lee\\'s first three films, Green Fish (1997), Peppermint Candy (2000) and Oasis (2002) have marked him out as \"one of the leading figures of his country\\'s recent cinematic renaissance.\" But this is not as successful a film as those of other Korean directors whose work I\\'ve seen, such as Yong Sang-Soo, Bong Joon-ho, and the prodigiously, almost perversely gifted Park Chan-wook. It may indeed begin as Foundas says as a kind of \"Asiatic Alice Doesn\\'t Live Here Anymore\" and then \"abruptly and without warning\" turns into \"something of a thriller, and some time after that a nearly Bressonian study in human suffering.\" But that progression not only seems random and indigestible; the film sags and loses its momentum toward the end and then simply fizzles out, with no sense of an ending. There are also weaknesses in the action. Shin-ae takes foolish chances with her son, and makes bad choices all along. If she is destined for madness like Betty in Jean-Jacques Beineix\\'s Betty Blue, which might explain her peculiar and mistaken choices, that isn\\'t something that is properly developed. This is an interesting film, certainly a disturbing one, but one that leaves one doubtful and dissatisfied, after putting one through an emotional wringer.<br /><br />An official selection of the New York Film Festival presented at Lincoln Center, 2007\\x97an event that has done right by Korean filmmakers in the recent past.', 'when i first read about \"berlin am meer\" i didn\\'t expect much. but i thought with the right people, the right locations, the right music and fashion you could at least make a trivial movie about the hip berlin everyone seems to be talking about. but eissler failed, it\\'s so ridiculously unauthentic. it\\'s a complete misrepresentation of what it is going on in berlin\\'s so called scene. of course it\\'s not all about hippness, but you should expect more from a movie that\\'s being sold as \"the definite berlin movie\".<br /><br />and apart from all the credibility stuff, it really is a bad movie. mediocre acting and a rather boring plot. interestingly some of the actors have proved in other movies that they are actually quite talented. so it really must be poor directing skills.<br /><br />don\\'t bother watching \"berlin am meer\" unless you are 17, come from some small town in western Germany and want to move to the big city after you finished school. then you might actually find it enjoyable and totally cool.']\n",
            "[0, 0, 0, 1, 0]\n"
          ]
        }
      ],
      "source": [
        "#converting the labels into integers\n",
        "for i in range(len(train_label)):\n",
        "    train_label[i] = int(train_label[i])\n",
        "    \n",
        "for i in range(len(test_label)):\n",
        "    test_label[i] = int(test_label[i])\n",
        " \n",
        "#printing some of the data      \n",
        "print(train_text[:5])\n",
        "print(train_label[:5])\n",
        "\n",
        "print(test_text[:5])\n",
        "print(test_label[:5])\n",
        "\n",
        "#converting the labels into arrays\n",
        "train_label = np.array(train_label)\n",
        "test_label = np.array(test_label)"
      ]
    },
    {
      "cell_type": "code",
      "execution_count": 9,
      "metadata": {
        "id": "-exiZld81YL5"
      },
      "outputs": [],
      "source": [
        "# Checking the length of each review i.e. no. of words per review\n",
        "text_split_train = [text.split() for text in train_text]\n",
        "text_length_train = [len(words) for words in text_split_train]\n",
        "\n"
      ]
    },
    {
      "cell_type": "code",
      "execution_count": 10,
      "metadata": {
        "colab": {
          "base_uri": "https://localhost:8080/"
        },
        "id": "zdfuAoWo__pb",
        "outputId": "40132085-3300-43d3-84fb-f810d85ae1bf"
      },
      "outputs": [
        {
          "name": "stdout",
          "output_type": "stream",
          "text": [
            "2470\n"
          ]
        }
      ],
      "source": [
        "# Checking for maximum length of a review in the Train dataset\n",
        "# print(text_length_train)\n",
        "print(max(text_length_train))"
      ]
    },
    {
      "cell_type": "code",
      "execution_count": 11,
      "metadata": {
        "colab": {
          "base_uri": "https://localhost:8080/",
          "height": 281
        },
        "id": "dZZ8ShMf1x5v",
        "outputId": "9909aa19-28ae-4716-822f-a49c691c81b2"
      },
      "outputs": [
        {
          "data": {
            "image/png": "[encoded data removed]",
            "text/plain": [
              "<Figure size 576x288 with 2 Axes>"
            ]
          },
          "metadata": {
            "needs_background": "light"
          },
          "output_type": "display_data"
        }
      ],
      "source": [
        "# Visualizing Distribution of length of reviews \n",
        "fig = plt.figure(figsize=plt.figaspect(.5))\n",
        "\n",
        "ax1 = plt.subplot(121)\n",
        "sns.kdeplot(text_length_train, shade=True, ax=ax1)\n",
        "plt.xlabel('')\n",
        "plt.title(\"PDF of Review Length[Training]\")\n",
        "\n",
        "ax2 = plt.subplot(122)\n",
        "sns.kdeplot(text_length_train, shade=True, cumulative=True,ax=ax2)\n",
        "plt.xlabel('')\n",
        "plt.title('CDF of Review Length[Training]')\n",
        "\n",
        "plt.show()"
      ]
    },
    {
      "cell_type": "code",
      "execution_count": 12,
      "metadata": {
        "id": "pvy_QEISF_vy"
      },
      "outputs": [],
      "source": [
        "top_words = 20000              \n",
        "embedding_vec_length = 32\n",
        "max_length = 600\n",
        "trunc_type = 'post'\n",
        "oov_tok = '<OOV>'\n"
      ]
    },
    {
      "cell_type": "code",
      "execution_count": 13,
      "metadata": {
        "id": "SZ6UcpnFHteJ"
      },
      "outputs": [],
      "source": [
        "tokenizer = Tokenizer(num_words=top_words, oov_token=oov_tok)\n",
        "tokenizer.fit_on_texts(train_text)\n",
        "\n",
        "sequences = tokenizer.texts_to_sequences(train_text)\n",
        "\n",
        "train_padded = pad_sequences(sequences, maxlen=max_length, truncating=trunc_type)\n",
        "\n",
        "test_sequences = tokenizer.texts_to_sequences(test_text)\n",
        "test_padded = pad_sequences(test_sequences, maxlen=max_length)"
      ]
    },
    {
      "cell_type": "code",
      "execution_count": 14,
      "metadata": {
        "colab": {
          "base_uri": "https://localhost:8080/"
        },
        "id": "82O_o1bdJ8oz",
        "outputId": "d9f3d9ca-07d7-4481-bd45-3513dcbc19dd"
      },
      "outputs": [
        {
          "data": {
            "text/plain": [
              "((40000, 600), (5000, 600))"
            ]
          },
          "execution_count": 14,
          "metadata": {},
          "output_type": "execute_result"
        }
      ],
      "source": [
        "train_padded.shape, test_padded.shape"
      ]
    },
    {
      "cell_type": "markdown",
      "metadata": {
        "id": "aJq8FIm63WfB"
      },
      "source": [
        "## ***MODEL BUILDING***"
      ]
    },
    {
      "cell_type": "code",
      "execution_count": 15,
      "metadata": {
        "colab": {
          "base_uri": "https://localhost:8080/"
        },
        "id": "iONfSwbtKlWg",
        "outputId": "bc48659b-27d7-400c-a7b4-ba33c76ccee8"
      },
      "outputs": [
        {
          "name": "stdout",
          "output_type": "stream",
          "text": [
            "Model: \"sequential\"\n",
            "_________________________________________________________________\n",
            " Layer (type)                Output Shape              Param #   \n",
            "=================================================================\n",
            " embedding (Embedding)       (None, 600, 32)           640000    \n",
            "                                                                 \n",
            " dropout (Dropout)           (None, 600, 32)           0         \n",
            "                                                                 \n",
            " lstm (LSTM)                 (None, 100)               53200     \n",
            "                                                                 \n",
            " dropout_1 (Dropout)         (None, 100)               0         \n",
            "                                                                 \n",
            " dense (Dense)               (None, 1)                 101       \n",
            "                                                                 \n",
            "=================================================================\n",
            "Total params: 693,301\n",
            "Trainable params: 693,301\n",
            "Non-trainable params: 0\n",
            "_________________________________________________________________\n",
            "None\n"
          ]
        }
      ],
      "source": [
        "model = Sequential()\n",
        "model.add(Embedding(input_dim=top_words, output_dim=embedding_vec_length, input_length= max_length, mask_zero=True))\n",
        "model.add(Dropout(0.3))\n",
        "model.add(LSTM(100))\n",
        "model.add(Dropout(0.4))\n",
        "model.add(Dense(1,activation=\"sigmoid\"))\n",
        "model.compile(loss='binary_crossentropy', optimizer='adam', metrics=['accuracy'])\n",
        "print(model.summary())"
      ]
    },
    {
      "cell_type": "code",
      "execution_count": 16,
      "metadata": {
        "colab": {
          "base_uri": "https://localhost:8080/"
        },
        "id": "GZJvb41nNOhU",
        "outputId": "6812bec1-8542-4391-8024-d96de6eb7ad4"
      },
      "outputs": [
        {
          "name": "stdout",
          "output_type": "stream",
          "text": [
            "Epoch 1/5\n",
            "625/625 [==============================] - 1054s 2s/step - loss: 0.4337 - accuracy: 0.7951 - val_loss: 0.2955 - val_accuracy: 0.8832\n",
            "Epoch 2/5\n",
            "625/625 [==============================] - 935s 1s/step - loss: 0.2785 - accuracy: 0.8903 - val_loss: 0.2759 - val_accuracy: 0.8936\n",
            "Epoch 3/5\n",
            "625/625 [==============================] - 922s 1s/step - loss: 0.2017 - accuracy: 0.9262 - val_loss: 0.2827 - val_accuracy: 0.8844\n",
            "Epoch 4/5\n",
            "625/625 [==============================] - 969s 2s/step - loss: 0.1644 - accuracy: 0.9400 - val_loss: 0.2844 - val_accuracy: 0.8898\n",
            "Epoch 5/5\n",
            "625/625 [==============================] - 849s 1s/step - loss: 0.1583 - accuracy: 0.9442 - val_loss: 0.3011 - val_accuracy: 0.8898\n"
          ]
        }
      ],
      "source": [
        "epochs = 5\n",
        "history = model.fit(train_padded , train_label , epochs=epochs , validation_data=(test_padded , test_label), batch_size=64)"
      ]
    },
    {
      "cell_type": "markdown",
      "metadata": {
        "id": "t_eiLfwo3oRl"
      },
      "source": [
        "## ***VISUALIZING TRAIN AND VALIDATION CURVES***"
      ]
    },
    {
      "cell_type": "code",
      "execution_count": 17,
      "metadata": {
        "id": "dGpVYZtyYRDm"
      },
      "outputs": [],
      "source": [
        "def Learning_curve(history, epochs):\n",
        "  epoch_range = range(1,epochs+1)\n",
        "  plt.plot(epoch_range, history.history['accuracy'])\n",
        "  plt.plot(epoch_range, history.history['val_accuracy'])\n",
        "  plt.title('Model Accuracy')\n",
        "  plt.ylabel('Accuracy')\n",
        "  plt.xlabel('Epochs')\n",
        "  plt.legend(['Train', 'Validation'], loc='upper left')\n",
        "  plt.show()\n",
        "\n",
        "  plt.plot(epoch_range, history.history['loss'])\n",
        "  plt.plot(epoch_range, history.history['val_loss'])\n",
        "  plt.title('Model Loss')\n",
        "  plt.ylabel('Loss')\n",
        "  plt.xlabel('Epochs')\n",
        "  plt.legend(['Train', 'Validation'], loc='upper left')\n",
        "  plt.show()"
      ]
    },
    {
      "cell_type": "code",
      "execution_count": 18,
      "metadata": {
        "colab": {
          "base_uri": "https://localhost:8080/",
          "height": 573
        },
        "id": "ItLwxIxDYYay",
        "outputId": "77723188-97e3-448b-8ea9-23d3d7f1f6da"
      },
      "outputs": [
        {
          "data": {
            "image/png": "[encoded data removed]",
            "text/plain": [
              "<Figure size 432x288 with 1 Axes>"
            ]
          },
          "metadata": {
            "needs_background": "light"
          },
          "output_type": "display_data"
        },
        {
          "data": {
            "image/png": "[encoded data removed]",
            "text/plain": [
              "<Figure size 432x288 with 1 Axes>"
            ]
          },
          "metadata": {
            "needs_background": "light"
          },
          "output_type": "display_data"
        }
      ],
      "source": [
        "Learning_curve(history, 5)"
      ]
    },
    {
      "cell_type": "code",
      "execution_count": 19,
      "metadata": {
        "id": "0_aTlj6fy_p8"
      },
      "outputs": [],
      "source": [
        "tensorflow.keras.models.save_model(model, 'text_model.hdf5')"
      ]
    }
  ],
  "metadata": {
    "colab": {
      "name": "IMDB_TextClassification.ipynb",
      "provenance": []
    },
    "kernelspec": {
      "display_name": "Python 3",
      "name": "python3"
    },
    "language_info": {
      "codemirror_mode": {
        "name": "ipython",
        "version": 3
      },
      "file_extension": ".py",
      "mimetype": "text/x-python",
      "name": "python",
      "nbconvert_exporter": "python",
      "pygments_lexer": "ipython3",
      "version": "3.8.12"
    }
  },
  "nbformat": 4,
  "nbformat_minor": 0
}
